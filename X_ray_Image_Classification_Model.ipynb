{
  "cells": [
    {
      "cell_type": "markdown",
      "source": [
        "## Introduction + Set-up\n",
        "\n",
        "In This notebook I will explain how to build an X-ray image classification model\n",
        "to predict whether an X-ray scan shows presence of pneumonia."
      ],
      "metadata": {
        "id": "5sMToLxYYrii"
      }
    },
    {
      "cell_type": "code",
      "source": [
        "import re\n",
        "import os\n",
        "import random\n",
        "import numpy as np\n",
        "import pandas as pd\n",
        "import tensorflow as tf\n",
        "import matplotlib.pyplot as plt\n",
        "\n",
        "try:\n",
        "    tpu = tf.distribute.cluster_resolver.TPUClusterResolver.connect()\n",
        "    print(\"Device:\", tpu.master())\n",
        "    strategy = tf.distribute.TPUStrategy(tpu)\n",
        "except:\n",
        "    strategy = tf.distribute.get_strategy()\n",
        "print(\"Number of replicas:\", strategy.num_replicas_in_sync)"
      ],
      "metadata": {
        "colab": {
          "base_uri": "https://localhost:8080/"
        },
        "id": "oSQSjJjjhIAn",
        "outputId": "d6f1575e-b67f-4229-c5f1-78c16a5319ae"
      },
      "execution_count": 80,
      "outputs": [
        {
          "output_type": "stream",
          "name": "stdout",
          "text": [
            "Number of replicas: 1\n"
          ]
        }
      ]
    },
    {
      "cell_type": "code",
      "source": [
        "AUTOTUNE = tf.data.AUTOTUNE\n",
        "BATCH_SIZE = 25 * strategy.num_replicas_in_sync\n",
        "IMAGE_SIZE = [180, 180]\n",
        "CLASS_NAMES = [\"NORMAL\", \"PNEUMONIA\"]"
      ],
      "metadata": {
        "id": "r2LoVobJ-qrg"
      },
      "execution_count": 81,
      "outputs": []
    },
    {
      "cell_type": "markdown",
      "source": [
        "## Load the data\n",
        "\n",
        "The Chest X-ray data we are using from\n",
        "[*Cell*](https://www.cell.com/cell/fulltext/S0092-8674(18)30154-5) divides the data into\n",
        "training and test files. Let's first load in the training TFRecords."
      ],
      "metadata": {
        "id": "BG_91vanZCQx"
      }
    },
    {
      "cell_type": "code",
      "source": [
        "train_images = tf.data.TFRecordDataset(\n",
        "    \"gs://download.tensorflow.org/data/ChestXRay2017/train/images.tfrec\"\n",
        ")\n",
        "train_paths = tf.data.TFRecordDataset(\n",
        "    \"gs://download.tensorflow.org/data/ChestXRay2017/train/paths.tfrec\"\n",
        ")\n",
        "\n",
        "ds = tf.data.Dataset.zip((train_images, train_paths))"
      ],
      "metadata": {
        "id": "_drTEcp9gx1s"
      },
      "execution_count": 82,
      "outputs": []
    },
    {
      "cell_type": "markdown",
      "source": [
        "Let's count how many healthy/normal chest X-rays we have and how many\n",
        "pneumonia chest X-rays we have:"
      ],
      "metadata": {
        "id": "Yd7E0WjRZLo3"
      }
    },
    {
      "cell_type": "code",
      "source": [
        "train_paths_list = [filename.numpy().decode(\"utf-8\") for filename in train_paths]\n",
        "COUNT_NORMAL = len([filename for filename in train_paths_list if \"NORMAL\" in filename])\n",
        "COUNT_PNEUMONIA = len([filename for filename in train_paths_list if \"PNEUMONIA\" in filename])\n",
        "\n",
        "print(\"Normal images count in training set: \" + str(COUNT_NORMAL))\n",
        "print(\"Pneumonia images count in training set: \" + str(COUNT_PNEUMONIA))\n"
      ],
      "metadata": {
        "colab": {
          "base_uri": "https://localhost:8080/"
        },
        "id": "xMK01irSQtZ2",
        "outputId": "227b38ac-a423-4584-c0d3-e2b286392305"
      },
      "execution_count": 83,
      "outputs": [
        {
          "output_type": "stream",
          "name": "stdout",
          "text": [
            "Normal images count in training set: 1349\n",
            "Pneumonia images count in training set: 3883\n"
          ]
        }
      ]
    },
    {
      "cell_type": "markdown",
      "source": [
        "#### Notice that there are way more images that are classified as pneumonia than normal. This shows that we have an imbalance in our data. We will correct for this imbalance later on in our notebook."
      ],
      "metadata": {
        "id": "butvpBR-Zo3T"
      }
    },
    {
      "cell_type": "markdown",
      "source": [
        "We want to map each filename to the corresponding (image, label) pair. The following\n",
        "methods will help us do that.\n",
        "\n",
        "As we only have two labels, we will encode the label so that `1` or `True` indicates\n",
        "pneumonia and `0` or `False` indicates normal."
      ],
      "metadata": {
        "id": "xkmJ576zZ6SG"
      }
    },
    {
      "cell_type": "code",
      "source": [
        "def get_label(file_path):\n",
        "    # convert the path to a list of path components\n",
        "    parts = tf.strings.split(file_path, os.path.sep)\n",
        "    # The second to last is the class-directory\n",
        "    return tf.cast(parts[-2] == \"PNEUMONIA\", tf.int32)  # Cast boolean to int\n",
        "\n",
        "\n",
        "\n",
        "def decode_img(img):\n",
        "    # convert the compressed string to a 3D uint8 tensor\n",
        "    img = tf.image.decode_jpeg(img, channels=3)\n",
        "    # Use 'convert_image_dtype' to convert to floats in the [0,1] range.\n",
        "    img = tf.image.convert_image_dtype(img, tf.float32)\n",
        "    # resize the image to the desired size.\n",
        "    return tf.image.resize(img, IMAGE_SIZE)\n",
        "\n",
        "\n",
        "def process_path(image, path):\n",
        "    label = get_label(path)\n",
        "    # load the raw data from the file as a string\n",
        "    img = decode_img(image)\n",
        "    return img, label\n",
        "\n",
        "\n",
        "ds = ds.map(process_path, num_parallel_calls=AUTOTUNE)"
      ],
      "metadata": {
        "id": "2LHNKufAQy-T"
      },
      "execution_count": 84,
      "outputs": []
    },
    {
      "cell_type": "markdown",
      "source": [
        "Let's split the data into a training and validation datasets."
      ],
      "metadata": {
        "id": "DQh27sZUaF8c"
      }
    },
    {
      "cell_type": "code",
      "source": [
        "ds = ds.shuffle(10000)\n",
        "train_ds = ds.take(4200)\n",
        "val_ds = ds.skip(4200)"
      ],
      "metadata": {
        "id": "KXB6s467Q5B2"
      },
      "execution_count": 85,
      "outputs": []
    },
    {
      "cell_type": "markdown",
      "source": [
        "Let's visualize the shape of an (image, label) pair."
      ],
      "metadata": {
        "id": "3TngC5yJaMfh"
      }
    },
    {
      "cell_type": "code",
      "source": [
        "for image, label in train_ds.take(1):\n",
        "    print(\"Image shape: \", image.numpy().shape)\n",
        "    print(\"Label: \", label.numpy())"
      ],
      "metadata": {
        "colab": {
          "base_uri": "https://localhost:8080/"
        },
        "id": "sSpb6TGNQ7ca",
        "outputId": "9bebaa1a-84b0-42a4-9b5a-6734033d1b4d"
      },
      "execution_count": 86,
      "outputs": [
        {
          "output_type": "stream",
          "name": "stdout",
          "text": [
            "Image shape:  (180, 180, 3)\n",
            "Label:  1\n"
          ]
        }
      ]
    },
    {
      "cell_type": "code",
      "source": [
        "test_images = tf.data.TFRecordDataset(\n",
        "    \"gs://download.tensorflow.org/data/ChestXRay2017/test/images.tfrec\"\n",
        ")\n",
        "test_paths = tf.data.TFRecordDataset(\n",
        "    \"gs://download.tensorflow.org/data/ChestXRay2017/test/paths.tfrec\"\n",
        ")\n",
        "test_ds = tf.data.Dataset.zip((test_images, test_paths))\n",
        "\n",
        "test_ds = test_ds.map(process_path, num_parallel_calls=AUTOTUNE)\n",
        "test_ds = test_ds.batch(BATCH_SIZE)"
      ],
      "metadata": {
        "id": "DRChczyKQ-bA"
      },
      "execution_count": 87,
      "outputs": []
    },
    {
      "cell_type": "markdown",
      "source": [
        "## Visualize the dataset\n",
        "\n",
        "First, let's use buffered prefetching so we can yield data from disk without having I/O\n",
        "become blocking.\n",
        "\n",
        "Please note that large image datasets should not be cached in memory. We do it here\n",
        "because the dataset is not very large and we want to train on TPU."
      ],
      "metadata": {
        "id": "Gg5tBFGbaRUE"
      }
    },
    {
      "cell_type": "code",
      "source": [
        "def prepare_for_training(ds, cache=True):\n",
        "    # This is a small dataset, only load it once, and keep it in memory.\n",
        "    # use `.cache(filename)` to cache preprocessing work for datasets that don't\n",
        "    # fit in memory.\n",
        "    if cache:\n",
        "        if isinstance(cache, str):\n",
        "            ds = ds.cache(cache)\n",
        "        else:\n",
        "            ds = ds.cache()\n",
        "\n",
        "    ds = ds.batch(BATCH_SIZE)\n",
        "\n",
        "    # `prefetch` lets the dataset fetch batches in the background while the model\n",
        "    # is training.\n",
        "    ds = ds.prefetch(buffer_size=AUTOTUNE)\n",
        "\n",
        "    return ds"
      ],
      "metadata": {
        "id": "0LguHKX0RCqP"
      },
      "execution_count": 88,
      "outputs": []
    },
    {
      "cell_type": "markdown",
      "source": [
        "Call the next batch iteration of the training data."
      ],
      "metadata": {
        "id": "VNZungCAaV1A"
      }
    },
    {
      "cell_type": "code",
      "source": [
        "train_ds = prepare_for_training(train_ds)\n",
        "val_ds = prepare_for_training(val_ds)\n",
        "\n",
        "image_batch, label_batch = next(iter(train_ds))"
      ],
      "metadata": {
        "id": "_3GMl2xRRHFi"
      },
      "execution_count": 89,
      "outputs": []
    },
    {
      "cell_type": "markdown",
      "source": [
        "Define the method to show the images in the batch."
      ],
      "metadata": {
        "id": "JQm_T5BDadKS"
      }
    },
    {
      "cell_type": "code",
      "source": [
        "def show_batch(image_batch, label_batch):\n",
        "    plt.figure(figsize=(10, 10))\n",
        "    for n in range(25):\n",
        "        ax = plt.subplot(5, 5, n + 1)\n",
        "        plt.imshow(image_batch[n] / 255)\n",
        "        if label_batch[n]:\n",
        "            plt.title(\"PNEUMONIA\")\n",
        "        else:\n",
        "            plt.title(\"NORMAL\")\n",
        "        plt.axis(\"off\")"
      ],
      "metadata": {
        "id": "nGZGrWnQRJjy"
      },
      "execution_count": 90,
      "outputs": []
    },
    {
      "cell_type": "markdown",
      "source": [
        "As the method takes in NumPy arrays as its parameters, call the numpy function on the\n",
        "batches to return the tensor in NumPy array form."
      ],
      "metadata": {
        "id": "fd_Dl_vAagr8"
      }
    },
    {
      "cell_type": "code",
      "source": [
        "show_batch(image_batch.numpy(), label_batch.numpy())"
      ],
      "metadata": {
        "colab": {
          "base_uri": "https://localhost:8080/",
          "height": 829
        },
        "id": "t6ht8-PZRRbx",
        "outputId": "7397fb29-8cf7-425b-f359-b32829748a76"
      },
      "execution_count": 100,
      "outputs": [
        {
          "output_type": "display_data",
          "data": {
            "text/plain": [
              "<Figure size 1000x1000 with 25 Axes>"
            ],
            "image/png": "[encoded data removed]"
          },
          "metadata": {}
        }
      ]
    },
    {
      "cell_type": "markdown",
      "source": [
        "## Build the CNN\n",
        "\n",
        "To make our model more modular and easier to understand, let's define some blocks. As\n",
        "we're building a convolution neural network, we'll create a convolution block and a dense\n",
        "layer block.\n",
        "\n",
        "The architecture for this CNN has been inspired by this\n",
        "[article](https://towardsdatascience.com/deep-learning-for-detecting-pneumonia-from-x-ray-images-fc9a3d9fdba8)."
      ],
      "metadata": {
        "id": "gTLAAzpHapaX"
      }
    },
    {
      "cell_type": "code",
      "source": [
        "from tensorflow import keras\n",
        "from tensorflow.keras import layers\n",
        "\n",
        "def conv_block(filters, inputs):\n",
        "    x = layers.SeparableConv2D(filters, 3, activation=\"relu\", padding=\"same\")(inputs)\n",
        "    x = layers.SeparableConv2D(filters, 3, activation=\"relu\", padding=\"same\")(x)\n",
        "    x = layers.BatchNormalization()(x)\n",
        "    outputs = layers.MaxPool2D()(x)\n",
        "    return outputs\n",
        "\n",
        "def dense_block(units, dropout_rate, inputs):\n",
        "    x = layers.Dense(units, activation=\"relu\")(inputs)\n",
        "    x = layers.BatchNormalization()(x)\n",
        "    outputs = layers.Dropout(dropout_rate)(x)\n",
        "    return outputs"
      ],
      "metadata": {
        "id": "bW6czEcMRUXs"
      },
      "execution_count": 92,
      "outputs": []
    },
    {
      "cell_type": "markdown",
      "source": [
        "The following method will define the function to build our model for us.\n",
        "\n",
        "The images originally have values that range from [0, 255]. CNNs work better with smaller\n",
        "numbers so we will scale this down for our input.\n",
        "\n",
        "The Dropout layers are important, as they\n",
        "reduce the likelikhood of the model overfitting. We want to end the model with a `Dense`\n",
        "layer with one node, as this will be the binary output that determines if an X-ray shows\n",
        "presence of pneumonia."
      ],
      "metadata": {
        "id": "mih0yI0qa9dO"
      }
    },
    {
      "cell_type": "code",
      "source": [
        "def build_model():\n",
        "    inputs = keras.Input(shape=(IMAGE_SIZE[0], IMAGE_SIZE[1], 3))\n",
        "    x = layers.Rescaling(1.0 / 255)(inputs)\n",
        "    x = layers.Conv2D(16, 3, activation=\"relu\", padding=\"same\")(x)\n",
        "    x = layers.Conv2D(16, 3, activation=\"relu\", padding=\"same\")(x)\n",
        "    x = layers.MaxPool2D()(x)\n",
        "\n",
        "    x = conv_block(32, x)\n",
        "    x = conv_block(64, x)\n",
        "\n",
        "    x = conv_block(128, x)\n",
        "    x = layers.Dropout(0.2)(x)\n",
        "\n",
        "    x = conv_block(256, x)\n",
        "    x = layers.Dropout(0.2)(x)\n",
        "\n",
        "    x = layers.Flatten()(x)\n",
        "    x = dense_block(512, 0.7, x)\n",
        "    x = dense_block(128, 0.5, x)\n",
        "    x = dense_block(64, 0.3, x)\n",
        "\n",
        "    outputs = layers.Dense(1, activation=\"sigmoid\")(x)\n",
        "\n",
        "    model = keras.Model(inputs=inputs, outputs=outputs)\n",
        "    return model\n"
      ],
      "metadata": {
        "id": "JMJbIAoIRXeN"
      },
      "execution_count": 93,
      "outputs": []
    },
    {
      "cell_type": "markdown",
      "source": [
        "## Correct for data imbalance\n",
        "\n",
        "We saw earlier in this example that the data was imbalanced, with more images classified\n",
        "as pneumonia than normal. We will correct for that by using class weighting:"
      ],
      "metadata": {
        "id": "OKp1yB_vbDUz"
      }
    },
    {
      "cell_type": "code",
      "source": [
        "initial_bias = np.log([COUNT_PNEUMONIA / COUNT_NORMAL])\n",
        "print(\"Initial bias: {:.5f}\".format(initial_bias[0]))\n",
        "\n",
        "TRAIN_IMG_COUNT = COUNT_NORMAL + COUNT_PNEUMONIA\n",
        "weight_for_0 = (1 / COUNT_NORMAL) * (TRAIN_IMG_COUNT) / 2.0\n",
        "weight_for_1 = (1 / COUNT_PNEUMONIA) * (TRAIN_IMG_COUNT) / 2.0\n",
        "\n",
        "class_weight = {0: weight_for_0, 1: weight_for_1}\n",
        "\n",
        "print(\"Weight for class 0: {:.2f}\".format(weight_for_0))\n",
        "print(\"Weight for class 1: {:.2f}\".format(weight_for_1))"
      ],
      "metadata": {
        "colab": {
          "base_uri": "https://localhost:8080/"
        },
        "id": "tI_w7EzVRYSY",
        "outputId": "3c3f61aa-6097-4910-e2f1-5ca38cb74387"
      },
      "execution_count": 94,
      "outputs": [
        {
          "output_type": "stream",
          "name": "stdout",
          "text": [
            "Initial bias: 1.05724\n",
            "Weight for class 0: 1.94\n",
            "Weight for class 1: 0.67\n"
          ]
        }
      ]
    },
    {
      "cell_type": "markdown",
      "source": [
        "## Train the model"
      ],
      "metadata": {
        "id": "eerBU-tPbHoP"
      }
    },
    {
      "cell_type": "markdown",
      "source": [
        "### Defining callbacks\n",
        "\n",
        "The checkpoint callback saves the best weights of the model, so next time we want to use\n",
        "the model, we do not have to spend time training it. The early stopping callback stops\n",
        "the training process when the model starts becoming stagnant, or even worse, when the\n",
        "model starts overfitting."
      ],
      "metadata": {
        "id": "maz8mtRebI3X"
      }
    },
    {
      "cell_type": "code",
      "source": [
        "checkpoint_cb = tf.keras.callbacks.ModelCheckpoint(\"xray_model.h5\", save_best_only=True)\n",
        "\n",
        "early_stopping_cb = tf.keras.callbacks.EarlyStopping(\n",
        "    patience=10, restore_best_weights=True\n",
        ")"
      ],
      "metadata": {
        "id": "ec84jcqyReC3"
      },
      "execution_count": 95,
      "outputs": []
    },
    {
      "cell_type": "markdown",
      "source": [
        "We also want to tune our learning rate. Too high of a learning rate will cause the model\n",
        "to diverge. Too small of a learning rate will cause the model to be too slow. We\n",
        "implement the exponential learning rate scheduling method below."
      ],
      "metadata": {
        "id": "ys6TTRVlbS1e"
      }
    },
    {
      "cell_type": "code",
      "source": [
        "initial_learning_rate = 0.015\n",
        "lr_schedule = tf.keras.optimizers.schedules.ExponentialDecay(\n",
        "    initial_learning_rate, decay_steps=100000, decay_rate=0.96, staircase=True\n",
        ")"
      ],
      "metadata": {
        "id": "jQy-ELHMRhho"
      },
      "execution_count": 96,
      "outputs": []
    },
    {
      "cell_type": "markdown",
      "source": [
        "### Fit the model\n",
        "\n",
        "For our metrics, we want to include precision and recall as they will provide use with a\n",
        "more informed picture of how good our model is. Accuracy tells us what fraction of the\n",
        "labels is correct. Since our data is not balanced, accuracy might give a skewed sense of\n",
        "a good model (i.e. a model that always predicts PNEUMONIA will be 74% accurate but is not\n",
        "a good model).\n",
        "\n",
        "Precision is the number of true positives (TP) over the sum of TP and false positives\n",
        "(FP). It shows what fraction of labeled positives are actually correct.\n",
        "\n",
        "Recall is the number of TP over the sum of TP and false negatves (FN). It shows what\n",
        "fraction of actual positives are correct.\n",
        "\n",
        "Since there are only two possible labels for the image, we will be using the\n",
        "binary crossentropy loss. When we fit the model, remember to specify the class weights,\n",
        "which we defined earlier. Because we are using a TPU, training will be quick - less than\n",
        "2 minutes."
      ],
      "metadata": {
        "id": "zWNEx1LobXtX"
      }
    },
    {
      "cell_type": "code",
      "source": [
        "with strategy.scope():\n",
        "    model = build_model()\n",
        "\n",
        "    METRICS = [\n",
        "        tf.keras.metrics.BinaryAccuracy(),\n",
        "        tf.keras.metrics.Precision(name=\"precision\"),\n",
        "        tf.keras.metrics.Recall(name=\"recall\"),\n",
        "    ]\n",
        "    model.compile(\n",
        "        optimizer=tf.keras.optimizers.Adam(learning_rate=lr_schedule),\n",
        "        loss=\"binary_crossentropy\",\n",
        "        metrics=METRICS,\n",
        "    )\n",
        "\n",
        "history = model.fit(\n",
        "    train_ds,\n",
        "    epochs=100,\n",
        "    validation_data=val_ds,\n",
        "    class_weight=class_weight,\n",
        "    callbacks=[checkpoint_cb, early_stopping_cb]\n",
        ")"
      ],
      "metadata": {
        "colab": {
          "base_uri": "https://localhost:8080/"
        },
        "id": "nfI5Xq3TRnCJ",
        "outputId": "0b4f4ced-d72e-4ab9-8a78-8c1dbb72b0a0"
      },
      "execution_count": 97,
      "outputs": [
        {
          "output_type": "stream",
          "name": "stdout",
          "text": [
            "Epoch 1/100\n",
            "    168/Unknown - 90s 56ms/step - loss: 0.5644 - binary_accuracy: 0.7202 - precision: 0.8836 - recall: 0.7198"
          ]
        },
        {
          "output_type": "stream",
          "name": "stderr",
          "text": [
            "/usr/local/lib/python3.10/dist-packages/keras/src/engine/training.py:3103: UserWarning: You are saving your model as an HDF5 file via `model.save()`. This file format is considered legacy. We recommend using instead the native Keras format, e.g. `model.save('my_model.keras')`.\n",
            "  saving_api.save_model(\n"
          ]
        },
        {
          "output_type": "stream",
          "name": "stdout",
          "text": [
            "\b\b\b\b\b\b\b\b\b\b\b\b\b\b\b\b\b\b\b\b\b\b\b\b\b\b\b\b\b\b\b\b\b\b\b\b\b\b\b\b\b\b\b\b\b\b\b\b\b\b\b\b\b\b\b\b\b\b\b\b\b\b\b\b\b\b\b\b\b\b\b\b\b\b\b\b\b\b\b\b\b\b\b\b\b\b\b\b\b\b\b\b\b\b\b\b\b\b\b\b\b\b\b\b\b\b\b\b\b\r168/168 [==============================] - 155s 445ms/step - loss: 0.5644 - binary_accuracy: 0.7202 - precision: 0.8836 - recall: 0.7198 - val_loss: 8.4020 - val_binary_accuracy: 0.7384 - val_precision: 0.7384 - val_recall: 1.0000\n",
            "Epoch 2/100\n",
            "168/168 [==============================] - 10s 61ms/step - loss: 0.2897 - binary_accuracy: 0.8840 - precision: 0.9594 - recall: 0.8819 - val_loss: 0.7172 - val_binary_accuracy: 0.8430 - val_precision: 0.8289 - val_recall: 0.9921\n",
            "Epoch 3/100\n",
            "168/168 [==============================] - 10s 60ms/step - loss: 0.2637 - binary_accuracy: 0.8967 - precision: 0.9655 - recall: 0.8934 - val_loss: 0.8942 - val_binary_accuracy: 0.7161 - val_precision: 0.9958 - val_recall: 0.6181\n",
            "Epoch 4/100\n",
            "168/168 [==============================] - 10s 59ms/step - loss: 0.2100 - binary_accuracy: 0.9136 - precision: 0.9733 - recall: 0.9090 - val_loss: 9.6540 - val_binary_accuracy: 0.2616 - val_precision: 0.0000e+00 - val_recall: 0.0000e+00\n",
            "Epoch 5/100\n",
            "168/168 [==============================] - 10s 61ms/step - loss: 0.1855 - binary_accuracy: 0.9250 - precision: 0.9770 - recall: 0.9212 - val_loss: 0.3350 - val_binary_accuracy: 0.8624 - val_precision: 0.8491 - val_recall: 0.9895\n",
            "Epoch 6/100\n",
            "168/168 [==============================] - 10s 62ms/step - loss: 0.1715 - binary_accuracy: 0.9338 - precision: 0.9811 - recall: 0.9291 - val_loss: 0.2398 - val_binary_accuracy: 0.9079 - val_precision: 0.9489 - val_recall: 0.9252\n",
            "Epoch 7/100\n",
            "168/168 [==============================] - 10s 61ms/step - loss: 0.1619 - binary_accuracy: 0.9350 - precision: 0.9812 - recall: 0.9307 - val_loss: 1.3523 - val_binary_accuracy: 0.7229 - val_precision: 1.0000 - val_recall: 0.6247\n",
            "Epoch 8/100\n",
            "168/168 [==============================] - 12s 70ms/step - loss: 0.1505 - binary_accuracy: 0.9374 - precision: 0.9848 - recall: 0.9304 - val_loss: 0.5144 - val_binary_accuracy: 0.8217 - val_precision: 0.9983 - val_recall: 0.7598\n",
            "Epoch 9/100\n",
            "168/168 [==============================] - 13s 74ms/step - loss: 0.1332 - binary_accuracy: 0.9457 - precision: 0.9856 - recall: 0.9410 - val_loss: 0.6717 - val_binary_accuracy: 0.8062 - val_precision: 0.9913 - val_recall: 0.7441\n",
            "Epoch 10/100\n",
            "168/168 [==============================] - 11s 65ms/step - loss: 0.1589 - binary_accuracy: 0.9402 - precision: 0.9829 - recall: 0.9362 - val_loss: 2.5243 - val_binary_accuracy: 0.3421 - val_precision: 1.0000 - val_recall: 0.1089\n",
            "Epoch 11/100\n",
            "168/168 [==============================] - 10s 61ms/step - loss: 0.1475 - binary_accuracy: 0.9450 - precision: 0.9840 - recall: 0.9416 - val_loss: 1.6694 - val_binary_accuracy: 0.7500 - val_precision: 0.7480 - val_recall: 0.9974\n",
            "Epoch 12/100\n",
            "168/168 [==============================] - 10s 60ms/step - loss: 0.1259 - binary_accuracy: 0.9483 - precision: 0.9860 - recall: 0.9441 - val_loss: 4.9286 - val_binary_accuracy: 0.7384 - val_precision: 0.7384 - val_recall: 1.0000\n",
            "Epoch 13/100\n",
            "168/168 [==============================] - 11s 63ms/step - loss: 0.1200 - binary_accuracy: 0.9548 - precision: 0.9874 - recall: 0.9515 - val_loss: 1.7637 - val_binary_accuracy: 0.7384 - val_precision: 0.7384 - val_recall: 1.0000\n",
            "Epoch 14/100\n",
            "168/168 [==============================] - 10s 61ms/step - loss: 0.1388 - binary_accuracy: 0.9471 - precision: 0.9857 - recall: 0.9429 - val_loss: 1.1252 - val_binary_accuracy: 0.7413 - val_precision: 0.7405 - val_recall: 1.0000\n",
            "Epoch 15/100\n",
            "168/168 [==============================] - 11s 68ms/step - loss: 0.1160 - binary_accuracy: 0.9567 - precision: 0.9887 - recall: 0.9528 - val_loss: 2.4906 - val_binary_accuracy: 0.7384 - val_precision: 0.7384 - val_recall: 1.0000\n",
            "Epoch 16/100\n",
            "168/168 [==============================] - 12s 69ms/step - loss: 0.1110 - binary_accuracy: 0.9571 - precision: 0.9878 - recall: 0.9544 - val_loss: 0.0841 - val_binary_accuracy: 0.9709 - val_precision: 0.9919 - val_recall: 0.9685\n",
            "Epoch 17/100\n",
            "168/168 [==============================] - 10s 61ms/step - loss: 0.0985 - binary_accuracy: 0.9636 - precision: 0.9895 - recall: 0.9614 - val_loss: 2.0860 - val_binary_accuracy: 0.7384 - val_precision: 0.7384 - val_recall: 1.0000\n",
            "Epoch 18/100\n",
            "168/168 [==============================] - 10s 61ms/step - loss: 0.1083 - binary_accuracy: 0.9595 - precision: 0.9891 - recall: 0.9563 - val_loss: 0.0676 - val_binary_accuracy: 0.9787 - val_precision: 0.9818 - val_recall: 0.9895\n",
            "Epoch 19/100\n",
            "168/168 [==============================] - 10s 61ms/step - loss: 0.1587 - binary_accuracy: 0.9419 - precision: 0.9813 - recall: 0.9400 - val_loss: 0.2604 - val_binary_accuracy: 0.9002 - val_precision: 0.9970 - val_recall: 0.8675\n",
            "Epoch 20/100\n",
            "168/168 [==============================] - 10s 60ms/step - loss: 0.1244 - binary_accuracy: 0.9543 - precision: 0.9852 - recall: 0.9531 - val_loss: 0.5357 - val_binary_accuracy: 0.8110 - val_precision: 0.9880 - val_recall: 0.7533\n",
            "Epoch 21/100\n",
            "168/168 [==============================] - 10s 60ms/step - loss: 0.1146 - binary_accuracy: 0.9612 - precision: 0.9866 - recall: 0.9611 - val_loss: 0.1401 - val_binary_accuracy: 0.9438 - val_precision: 0.9916 - val_recall: 0.9318\n",
            "Epoch 22/100\n",
            "168/168 [==============================] - 10s 59ms/step - loss: 0.0979 - binary_accuracy: 0.9640 - precision: 0.9879 - recall: 0.9636 - val_loss: 0.0889 - val_binary_accuracy: 0.9641 - val_precision: 0.9879 - val_recall: 0.9633\n",
            "Epoch 23/100\n",
            "168/168 [==============================] - 11s 68ms/step - loss: 0.0879 - binary_accuracy: 0.9667 - precision: 0.9924 - recall: 0.9627 - val_loss: 0.1294 - val_binary_accuracy: 0.9535 - val_precision: 0.9747 - val_recall: 0.9619\n",
            "Epoch 24/100\n",
            "168/168 [==============================] - 10s 60ms/step - loss: 0.0822 - binary_accuracy: 0.9717 - precision: 0.9909 - recall: 0.9710 - val_loss: 0.3131 - val_binary_accuracy: 0.8944 - val_precision: 0.9954 - val_recall: 0.8609\n",
            "Epoch 25/100\n",
            "168/168 [==============================] - 11s 65ms/step - loss: 0.0692 - binary_accuracy: 0.9731 - precision: 0.9919 - recall: 0.9719 - val_loss: 1.3717 - val_binary_accuracy: 0.7442 - val_precision: 0.7427 - val_recall: 1.0000\n",
            "Epoch 26/100\n",
            "168/168 [==============================] - 10s 59ms/step - loss: 0.0747 - binary_accuracy: 0.9740 - precision: 0.9928 - recall: 0.9722 - val_loss: 1.1708 - val_binary_accuracy: 0.7384 - val_precision: 0.7384 - val_recall: 1.0000\n",
            "Epoch 27/100\n",
            "168/168 [==============================] - 10s 59ms/step - loss: 0.0960 - binary_accuracy: 0.9662 - precision: 0.9895 - recall: 0.9649 - val_loss: 3.3783 - val_binary_accuracy: 0.8023 - val_precision: 0.8275 - val_recall: 0.9252\n",
            "Epoch 28/100\n",
            "168/168 [==============================] - 10s 61ms/step - loss: 0.1120 - binary_accuracy: 0.9540 - precision: 0.9887 - recall: 0.9492 - val_loss: 0.0927 - val_binary_accuracy: 0.9622 - val_precision: 0.9959 - val_recall: 0.9528\n"
          ]
        }
      ]
    },
    {
      "cell_type": "markdown",
      "source": [
        "## Visualizing model performance\n",
        "\n",
        "Let's plot the model accuracy and loss for the training and the validating set. Note that\n",
        "no random seed is specified for this notebook. For your notebook, there might be slight\n",
        "variance."
      ],
      "metadata": {
        "id": "ywRtMGvDbhG_"
      }
    },
    {
      "cell_type": "code",
      "source": [
        "fig, ax = plt.subplots(1, 4, figsize=(20, 3))\n",
        "ax = ax.ravel()\n",
        "\n",
        "for i, met in enumerate([\"precision\", \"recall\", \"binary_accuracy\", \"loss\"]):\n",
        "    ax[i].plot(history.history[met])\n",
        "    ax[i].plot(history.history[\"val_\" + met])\n",
        "    ax[i].set_title(\"Model {}\".format(met))\n",
        "    ax[i].set_xlabel(\"epochs\")\n",
        "    ax[i].set_ylabel(met)\n",
        "    ax[i].legend([\"train\", \"val\"])"
      ],
      "metadata": {
        "colab": {
          "base_uri": "https://localhost:8080/",
          "height": 353
        },
        "id": "tqkIWTNxbtow",
        "outputId": "777a0a66-4e43-4885-a343-b6378ca9082e"
      },
      "execution_count": 102,
      "outputs": [
        {
          "output_type": "display_data",
          "data": {
            "text/plain": [
              "<Figure size 2000x300 with 4 Axes>"
            ],
            "image/png": "[encoded data removed]"
          },
          "metadata": {}
        }
      ]
    },
    {
      "cell_type": "markdown",
      "source": [
        "## Predict and evaluate results\n",
        "\n",
        "Let's evaluate the model on our test data!"
      ],
      "metadata": {
        "id": "dNaqcIKab5Bi"
      }
    },
    {
      "cell_type": "code",
      "source": [
        "model.evaluate(test_ds, return_dict=True)"
      ],
      "metadata": {
        "colab": {
          "base_uri": "https://localhost:8080/"
        },
        "id": "oUTTfj_KX5Ye",
        "outputId": "acfb9496-de5a-4e06-fce7-271efd408ca1"
      },
      "execution_count": 98,
      "outputs": [
        {
          "output_type": "stream",
          "name": "stdout",
          "text": [
            "25/25 [==============================] - 10s 384ms/step - loss: 0.7328 - binary_accuracy: 0.8157 - precision: 0.7756 - recall: 0.9923\n"
          ]
        },
        {
          "output_type": "execute_result",
          "data": {
            "text/plain": [
              "{'loss': 0.7327544093132019,\n",
              " 'binary_accuracy': 0.8157051205635071,\n",
              " 'precision': 0.7755510807037354,\n",
              " 'recall': 0.9923076629638672}"
            ]
          },
          "metadata": {},
          "execution_count": 98
        }
      ]
    },
    {
      "cell_type": "markdown",
      "source": [
        "We see that our accuracy on our test data is lower than the accuracy for our validating\n",
        "set. This may indicate overfitting.\n",
        "\n",
        "Our recall is greater than our precision, indicating that almost all pneumonia images are\n",
        "correctly identified but some normal images are falsely identified. We should aim to\n",
        "increase our precision."
      ],
      "metadata": {
        "id": "yE8hzMBCb_Th"
      }
    },
    {
      "cell_type": "code",
      "source": [
        "for image, label in test_ds.take(1):\n",
        "    plt.imshow(image[0] / 255.0)\n",
        "    plt.title(CLASS_NAMES[label[0].numpy()])\n",
        "\n",
        "prediction = model.predict(test_ds.take(1))[0]\n",
        "scores = [1 - prediction, prediction]\n",
        "\n",
        "for score, name in zip(scores, CLASS_NAMES):\n",
        "    print(\"This image is %.2f percent %s\" % ((100 * score), name))"
      ],
      "metadata": {
        "colab": {
          "base_uri": "https://localhost:8080/",
          "height": 505
        },
        "id": "GeyoTP2oX9bN",
        "outputId": "3b8c4a85-08fa-4150-8bae-298fa49a4ff2"
      },
      "execution_count": 101,
      "outputs": [
        {
          "output_type": "stream",
          "name": "stdout",
          "text": [
            "1/1 [==============================] - 1s 1s/step\n",
            "This image is 60.52 percent NORMAL\n",
            "This image is 39.48 percent PNEUMONIA\n"
          ]
        },
        {
          "output_type": "display_data",
          "data": {
            "text/plain": [
              "<Figure size 640x480 with 1 Axes>"
            ],
            "image/png": "[encoded data removed]"
          },
          "metadata": {}
        }
      ]
    }
  ],
  "metadata": {
    "colab": {
      "toc_visible": true,
      "provenance": [],
      "gpuType": "T4"
    },
    "kernelspec": {
      "display_name": "Python 3",
      "name": "python3"
    },
    "language_info": {
      "name": "python"
    },
    "accelerator": "GPU"
  },
  "nbformat": 4,
  "nbformat_minor": 0
}